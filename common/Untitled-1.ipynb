{
 "cells": [
  {
   "cell_type": "code",
   "execution_count": 10,
   "metadata": {},
   "outputs": [
    {
     "name": "stdout",
     "output_type": "stream",
     "text": [
      "son: [[24]\n",
      " [25]]\n",
      "son_son: [[23]\n",
      " [25]\n",
      " [29]]\n",
      "son_son: [[24]\n",
      " [29]]\n",
      "son_point: {24, 25, 29, 23}\n",
      "[23, 29, 25, 24]\n"
     ]
    },
    {
     "name": "stderr",
     "output_type": "stream",
     "text": [
      "C:\\Users\\12612\\AppData\\Local\\Temp\\ipykernel_34792\\2998001562.py:17: DeprecationWarning: Sampling from a set deprecated\n",
      "since Python 3.9 and will be removed in a subsequent version.\n",
      "  goal_prime_location = random.sample(son_point, 4)\n"
     ]
    }
   ],
   "source": [
    "from data.map import map_matrix\n",
    "import numpy as np\n",
    "import random\n",
    "\n",
    "goal_prime = []\n",
    "son_point = set()\n",
    "son = np.argwhere(map_matrix[29] == 1)\n",
    "print('son:', son)\n",
    "for i in son:\n",
    "    son_id = i.tolist()[0]\n",
    "    son_point.add(son_id)\n",
    "    son_son = np.argwhere(map_matrix[son_id] == 1)\n",
    "    print('son_son:', son_son)\n",
    "    for j in son_son:\n",
    "        son_point.add(j.tolist()[0])\n",
    "print('son_point:', son_point)\n",
    "goal_prime_location = random.sample(son_point, 4)\n",
    "\n",
    "print(goal_prime_location)"
   ]
  }
 ],
 "metadata": {
  "kernelspec": {
   "display_name": "her",
   "language": "python",
   "name": "python3"
  },
  "language_info": {
   "codemirror_mode": {
    "name": "ipython",
    "version": 3
   },
   "file_extension": ".py",
   "mimetype": "text/x-python",
   "name": "python",
   "nbconvert_exporter": "python",
   "pygments_lexer": "ipython3",
   "version": "3.10.11"
  }
 },
 "nbformat": 4,
 "nbformat_minor": 2
}
